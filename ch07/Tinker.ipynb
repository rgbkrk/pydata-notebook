{
 "metadata": {
  "name": "Tinker"
 },
 "nbformat": 3,
 "nbformat_minor": 0,
 "worksheets": [
  {
   "cells": [
    {
     "cell_type": "code",
     "collapsed": false,
     "input": [
      "import pandas as pd"
     ],
     "language": "python",
     "metadata": {},
     "outputs": [],
     "prompt_number": 1
    },
    {
     "cell_type": "code",
     "collapsed": false,
     "input": [
      "df = pd.read_csv(\"./macrodata.csv\")"
     ],
     "language": "python",
     "metadata": {},
     "outputs": [],
     "prompt_number": 2
    },
    {
     "cell_type": "code",
     "collapsed": false,
     "input": [
      "pd.set_option('display.max_columns', 3)\n",
      "df.head()"
     ],
     "language": "python",
     "metadata": {},
     "outputs": [
      {
       "output_type": "pyout",
       "prompt_number": 13,
       "text": [
        "<class 'pandas.core.frame.DataFrame'>\n",
        "Int64Index: 5 entries, 0 to 4\n",
        "Data columns:\n",
        "year        5  non-null values\n",
        "quarter     5  non-null values\n",
        "realgdp     5  non-null values\n",
        "realcons    5  non-null values\n",
        "realinv     5  non-null values\n",
        "realgovt    5  non-null values\n",
        "realdpi     5  non-null values\n",
        "cpi         5  non-null values\n",
        "m1          5  non-null values\n",
        "tbilrate    5  non-null values\n",
        "unemp       5  non-null values\n",
        "pop         5  non-null values\n",
        "infl        5  non-null values\n",
        "realint     5  non-null values\n",
        "dtypes: float64(14)"
       ]
      }
     ],
     "prompt_number": 13
    },
    {
     "cell_type": "code",
     "collapsed": false,
     "input": [
      "pd.set_option('display.max_columns', 20)\n",
      "df.head()"
     ],
     "language": "python",
     "metadata": {},
     "outputs": [
      {
       "html": [
        "<div style=\"max-height:1000px;max-width:1500px;overflow:auto;\">\n",
        "<table border=\"1\" class=\"dataframe\">\n",
        "  <thead>\n",
        "    <tr style=\"text-align: right;\">\n",
        "      <th></th>\n",
        "      <th>year</th>\n",
        "      <th>quarter</th>\n",
        "      <th>realgdp</th>\n",
        "      <th>realcons</th>\n",
        "      <th>realinv</th>\n",
        "      <th>realgovt</th>\n",
        "      <th>realdpi</th>\n",
        "      <th>cpi</th>\n",
        "      <th>m1</th>\n",
        "      <th>tbilrate</th>\n",
        "      <th>unemp</th>\n",
        "      <th>pop</th>\n",
        "      <th>infl</th>\n",
        "      <th>realint</th>\n",
        "    </tr>\n",
        "  </thead>\n",
        "  <tbody>\n",
        "    <tr>\n",
        "      <th>0</th>\n",
        "      <td> 1959</td>\n",
        "      <td> 1</td>\n",
        "      <td> 2710.349</td>\n",
        "      <td> 1707.4</td>\n",
        "      <td> 286.898</td>\n",
        "      <td> 470.045</td>\n",
        "      <td> 1886.9</td>\n",
        "      <td> 28.98</td>\n",
        "      <td> 139.7</td>\n",
        "      <td> 2.82</td>\n",
        "      <td> 5.8</td>\n",
        "      <td> 177.146</td>\n",
        "      <td> 0.00</td>\n",
        "      <td> 0.00</td>\n",
        "    </tr>\n",
        "    <tr>\n",
        "      <th>1</th>\n",
        "      <td> 1959</td>\n",
        "      <td> 2</td>\n",
        "      <td> 2778.801</td>\n",
        "      <td> 1733.7</td>\n",
        "      <td> 310.859</td>\n",
        "      <td> 481.301</td>\n",
        "      <td> 1919.7</td>\n",
        "      <td> 29.15</td>\n",
        "      <td> 141.7</td>\n",
        "      <td> 3.08</td>\n",
        "      <td> 5.1</td>\n",
        "      <td> 177.830</td>\n",
        "      <td> 2.34</td>\n",
        "      <td> 0.74</td>\n",
        "    </tr>\n",
        "    <tr>\n",
        "      <th>2</th>\n",
        "      <td> 1959</td>\n",
        "      <td> 3</td>\n",
        "      <td> 2775.488</td>\n",
        "      <td> 1751.8</td>\n",
        "      <td> 289.226</td>\n",
        "      <td> 491.260</td>\n",
        "      <td> 1916.4</td>\n",
        "      <td> 29.35</td>\n",
        "      <td> 140.5</td>\n",
        "      <td> 3.82</td>\n",
        "      <td> 5.3</td>\n",
        "      <td> 178.657</td>\n",
        "      <td> 2.74</td>\n",
        "      <td> 1.09</td>\n",
        "    </tr>\n",
        "    <tr>\n",
        "      <th>3</th>\n",
        "      <td> 1959</td>\n",
        "      <td> 4</td>\n",
        "      <td> 2785.204</td>\n",
        "      <td> 1753.7</td>\n",
        "      <td> 299.356</td>\n",
        "      <td> 484.052</td>\n",
        "      <td> 1931.3</td>\n",
        "      <td> 29.37</td>\n",
        "      <td> 140.0</td>\n",
        "      <td> 4.33</td>\n",
        "      <td> 5.6</td>\n",
        "      <td> 179.386</td>\n",
        "      <td> 0.27</td>\n",
        "      <td> 4.06</td>\n",
        "    </tr>\n",
        "    <tr>\n",
        "      <th>4</th>\n",
        "      <td> 1960</td>\n",
        "      <td> 1</td>\n",
        "      <td> 2847.699</td>\n",
        "      <td> 1770.5</td>\n",
        "      <td> 331.722</td>\n",
        "      <td> 462.199</td>\n",
        "      <td> 1955.5</td>\n",
        "      <td> 29.54</td>\n",
        "      <td> 139.6</td>\n",
        "      <td> 3.50</td>\n",
        "      <td> 5.2</td>\n",
        "      <td> 180.007</td>\n",
        "      <td> 2.31</td>\n",
        "      <td> 1.19</td>\n",
        "    </tr>\n",
        "  </tbody>\n",
        "</table>\n",
        "</div>"
       ],
       "output_type": "pyout",
       "prompt_number": 15,
       "text": [
        "   year  quarter   realgdp  realcons  realinv  realgovt  realdpi    cpi     m1  tbilrate  \\\n",
        "0  1959        1  2710.349    1707.4  286.898   470.045   1886.9  28.98  139.7      2.82   \n",
        "1  1959        2  2778.801    1733.7  310.859   481.301   1919.7  29.15  141.7      3.08   \n",
        "2  1959        3  2775.488    1751.8  289.226   491.260   1916.4  29.35  140.5      3.82   \n",
        "3  1959        4  2785.204    1753.7  299.356   484.052   1931.3  29.37  140.0      4.33   \n",
        "4  1960        1  2847.699    1770.5  331.722   462.199   1955.5  29.54  139.6      3.50   \n",
        "\n",
        "   unemp      pop  infl  realint  \n",
        "0    5.8  177.146  0.00     0.00  \n",
        "1    5.1  177.830  2.34     0.74  \n",
        "2    5.3  178.657  2.74     1.09  \n",
        "3    5.6  179.386  0.27     4.06  \n",
        "4    5.2  180.007  2.31     1.19  "
       ]
      }
     ],
     "prompt_number": 15
    },
    {
     "cell_type": "code",
     "collapsed": false,
     "input": [
      "df[['year', 'quarter', 'realcons']].head()"
     ],
     "language": "python",
     "metadata": {},
     "outputs": [
      {
       "html": [
        "<div style=\"max-height:1000px;max-width:1500px;overflow:auto;\">\n",
        "<table border=\"1\" class=\"dataframe\">\n",
        "  <thead>\n",
        "    <tr style=\"text-align: right;\">\n",
        "      <th></th>\n",
        "      <th>year</th>\n",
        "      <th>quarter</th>\n",
        "      <th>realcons</th>\n",
        "    </tr>\n",
        "  </thead>\n",
        "  <tbody>\n",
        "    <tr>\n",
        "      <th>0</th>\n",
        "      <td> 1959</td>\n",
        "      <td> 1</td>\n",
        "      <td> 1707.4</td>\n",
        "    </tr>\n",
        "    <tr>\n",
        "      <th>1</th>\n",
        "      <td> 1959</td>\n",
        "      <td> 2</td>\n",
        "      <td> 1733.7</td>\n",
        "    </tr>\n",
        "    <tr>\n",
        "      <th>2</th>\n",
        "      <td> 1959</td>\n",
        "      <td> 3</td>\n",
        "      <td> 1751.8</td>\n",
        "    </tr>\n",
        "    <tr>\n",
        "      <th>3</th>\n",
        "      <td> 1959</td>\n",
        "      <td> 4</td>\n",
        "      <td> 1753.7</td>\n",
        "    </tr>\n",
        "    <tr>\n",
        "      <th>4</th>\n",
        "      <td> 1960</td>\n",
        "      <td> 1</td>\n",
        "      <td> 1770.5</td>\n",
        "    </tr>\n",
        "  </tbody>\n",
        "</table>\n",
        "</div>"
       ],
       "output_type": "pyout",
       "prompt_number": 10,
       "text": [
        "   year  quarter  realcons\n",
        "0  1959        1    1707.4\n",
        "1  1959        2    1733.7\n",
        "2  1959        3    1751.8\n",
        "3  1959        4    1753.7\n",
        "4  1960        1    1770.5"
       ]
      }
     ],
     "prompt_number": 10
    },
    {
     "cell_type": "code",
     "collapsed": false,
     "input": [
      "import dateutil"
     ],
     "language": "python",
     "metadata": {},
     "outputs": [],
     "prompt_number": 6
    },
    {
     "cell_type": "code",
     "collapsed": false,
     "input": [
      "dateutil.parser.parse(\"20 Mar 2013\")"
     ],
     "language": "python",
     "metadata": {},
     "outputs": [
      {
       "output_type": "pyout",
       "prompt_number": 19,
       "text": [
        "datetime.datetime(2013, 3, 20, 0, 0)"
       ]
      }
     ],
     "prompt_number": 19
    },
    {
     "cell_type": "code",
     "collapsed": false,
     "input": [
      "df['year'].map(lambda x: x+200)"
     ],
     "language": "python",
     "metadata": {},
     "outputs": [
      {
       "output_type": "pyout",
       "prompt_number": 22,
       "text": [
        "0     2159\n",
        "1     2159\n",
        "2     2159\n",
        "3     2159\n",
        "4     2160\n",
        "5     2160\n",
        "6     2160\n",
        "7     2160\n",
        "8     2161\n",
        "9     2161\n",
        "10    2161\n",
        "11    2161\n",
        "12    2162\n",
        "13    2162\n",
        "14    2162\n",
        "...\n",
        "188    2206\n",
        "189    2206\n",
        "190    2206\n",
        "191    2206\n",
        "192    2207\n",
        "193    2207\n",
        "194    2207\n",
        "195    2207\n",
        "196    2208\n",
        "197    2208\n",
        "198    2208\n",
        "199    2208\n",
        "200    2209\n",
        "201    2209\n",
        "202    2209\n",
        "Name: year, Length: 203"
       ]
      }
     ],
     "prompt_number": 22
    },
    {
     "cell_type": "code",
     "collapsed": false,
     "input": [
      "seri = df['year']\n",
      "seri"
     ],
     "language": "python",
     "metadata": {},
     "outputs": [
      {
       "output_type": "pyout",
       "prompt_number": 24,
       "text": [
        "0     1959\n",
        "1     1959\n",
        "2     1959\n",
        "3     1959\n",
        "4     1960\n",
        "5     1960\n",
        "6     1960\n",
        "7     1960\n",
        "8     1961\n",
        "9     1961\n",
        "10    1961\n",
        "11    1961\n",
        "12    1962\n",
        "13    1962\n",
        "14    1962\n",
        "...\n",
        "188    2006\n",
        "189    2006\n",
        "190    2006\n",
        "191    2006\n",
        "192    2007\n",
        "193    2007\n",
        "194    2007\n",
        "195    2007\n",
        "196    2008\n",
        "197    2008\n",
        "198    2008\n",
        "199    2008\n",
        "200    2009\n",
        "201    2009\n",
        "202    2009\n",
        "Name: year, Length: 203"
       ]
      }
     ],
     "prompt_number": 24
    },
    {
     "cell_type": "code",
     "collapsed": false,
     "input": [
      "seri.astype(float)"
     ],
     "language": "python",
     "metadata": {},
     "outputs": [
      {
       "output_type": "pyout",
       "prompt_number": 25,
       "text": [
        "0     1959\n",
        "1     1959\n",
        "2     1959\n",
        "3     1959\n",
        "4     1960\n",
        "5     1960\n",
        "6     1960\n",
        "7     1960\n",
        "8     1961\n",
        "9     1961\n",
        "10    1961\n",
        "11    1961\n",
        "12    1962\n",
        "13    1962\n",
        "14    1962\n",
        "...\n",
        "188    2006\n",
        "189    2006\n",
        "190    2006\n",
        "191    2006\n",
        "192    2007\n",
        "193    2007\n",
        "194    2007\n",
        "195    2007\n",
        "196    2008\n",
        "197    2008\n",
        "198    2008\n",
        "199    2008\n",
        "200    2009\n",
        "201    2009\n",
        "202    2009\n",
        "Name: year, Length: 203"
       ]
      }
     ],
     "prompt_number": 25
    },
    {
     "cell_type": "code",
     "collapsed": false,
     "input": [
      "type(seri[0])"
     ],
     "language": "python",
     "metadata": {},
     "outputs": [
      {
       "output_type": "pyout",
       "prompt_number": 26,
       "text": [
        "numpy.float64"
       ]
      }
     ],
     "prompt_number": 26
    },
    {
     "cell_type": "code",
     "collapsed": false,
     "input": [
      "seri."
     ],
     "language": "python",
     "metadata": {},
     "outputs": [],
     "prompt_number": 27
    },
    {
     "cell_type": "code",
     "collapsed": false,
     "input": [],
     "language": "python",
     "metadata": {},
     "outputs": []
    }
   ],
   "metadata": {}
  }
 ]
}